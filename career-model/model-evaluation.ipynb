{
 "cells": [
  {
   "cell_type": "markdown",
   "id": "6f7323fd",
   "metadata": {},
   "source": [
    "# Getting the Model"
   ]
  },
  {
   "cell_type": "markdown",
   "id": "7f51779a",
   "metadata": {},
   "source": [
    "First we install the requirements as mentioned in the README.md file."
   ]
  },
  {
   "cell_type": "code",
   "execution_count": 1,
   "id": "5c859ab5",
   "metadata": {},
   "outputs": [
    {
     "name": "stdout",
     "output_type": "stream",
     "text": [
      "Requirement already satisfied: joblib==1.2.0 in /Library/Frameworks/Python.framework/Versions/3.9/lib/python3.9/site-packages (from -r requirements.txt (line 1)) (1.2.0)\n",
      "Requirement already satisfied: numpy==1.24.2 in /Library/Frameworks/Python.framework/Versions/3.9/lib/python3.9/site-packages (from -r requirements.txt (line 2)) (1.24.2)\n",
      "Requirement already satisfied: pandas==1.5.3 in /Library/Frameworks/Python.framework/Versions/3.9/lib/python3.9/site-packages (from -r requirements.txt (line 3)) (1.5.3)\n",
      "Requirement already satisfied: pydantic==1.10.6 in /Library/Frameworks/Python.framework/Versions/3.9/lib/python3.9/site-packages (from -r requirements.txt (line 4)) (1.10.6)\n",
      "Requirement already satisfied: python-dateutil==2.8.2 in /Library/Frameworks/Python.framework/Versions/3.9/lib/python3.9/site-packages (from -r requirements.txt (line 5)) (2.8.2)\n",
      "Requirement already satisfied: pytz==2022.7.1 in /Library/Frameworks/Python.framework/Versions/3.9/lib/python3.9/site-packages (from -r requirements.txt (line 6)) (2022.7.1)\n",
      "Requirement already satisfied: scikit-learn==1.2.1 in /Library/Frameworks/Python.framework/Versions/3.9/lib/python3.9/site-packages (from -r requirements.txt (line 7)) (1.2.1)\n",
      "Requirement already satisfied: scipy==1.10.1 in /Library/Frameworks/Python.framework/Versions/3.9/lib/python3.9/site-packages (from -r requirements.txt (line 8)) (1.10.1)\n",
      "Requirement already satisfied: six==1.16.0 in /Library/Frameworks/Python.framework/Versions/3.9/lib/python3.9/site-packages (from -r requirements.txt (line 9)) (1.16.0)\n",
      "Requirement already satisfied: threadpoolctl==3.1.0 in /Library/Frameworks/Python.framework/Versions/3.9/lib/python3.9/site-packages (from -r requirements.txt (line 10)) (3.1.0)\n",
      "Requirement already satisfied: typing_extensions==4.5.0 in /Library/Frameworks/Python.framework/Versions/3.9/lib/python3.9/site-packages (from -r requirements.txt (line 11)) (4.5.0)\n",
      "\u001b[33mWARNING: There was an error checking the latest version of pip.\u001b[0m\u001b[33m\n",
      "\u001b[0mNote: you may need to restart the kernel to use updated packages.\n"
     ]
    }
   ],
   "source": [
    "pip install -r requirements.txt"
   ]
  },
  {
   "cell_type": "markdown",
   "id": "6daca6af",
   "metadata": {},
   "source": [
    "Import all the dependencies needed for the predict function."
   ]
  },
  {
   "cell_type": "code",
   "execution_count": 1,
   "id": "4c12c601",
   "metadata": {},
   "outputs": [],
   "source": [
    "import pandas as pd\n",
    "import joblib\n",
    "from pydantic import BaseModel, Field\n",
    "from pydantic.tools import parse_obj_as"
   ]
  },
  {
   "cell_type": "markdown",
   "id": "ccf78b83",
   "metadata": {},
   "source": [
    "These are the Pydantic models for data validation and modeling that are used within the model. They are not used in this notebook, but are here to provide further insight into how to model is working."
   ]
  },
  {
   "cell_type": "code",
   "execution_count": 2,
   "id": "81ea0a55",
   "metadata": {},
   "outputs": [],
   "source": [
    "# Pydantic Models\n",
    "class Student(BaseModel):\n",
    "    student_id: str = Field(alias=\"Student ID\")\n",
    "    gender: str = Field(alias=\"Gender\")\n",
    "    age: str = Field(alias=\"Age\")\n",
    "    major: str = Field(alias=\"Major\")\n",
    "    gpa: str = Field(alias=\"GPA\")\n",
    "    extra_curricular: str = Field(alias=\"Extra Curricular\")\n",
    "    num_programming_languages: str = Field(alias=\"Num Programming Languages\")\n",
    "    num_past_internships: str = Field(alias=\"Num Past Internships\")\n",
    "\n",
    "    class Config:\n",
    "        allow_population_by_field_name = True\n",
    "\n",
    "class PredictionResult(BaseModel):\n",
    "    good_employee: int"
   ]
  },
  {
   "cell_type": "markdown",
   "id": "401ce476",
   "metadata": {},
   "source": [
    "This is the predict function. It is the function that is provided in the model that we are evaluating in this notebook."
   ]
  },
  {
   "cell_type": "code",
   "execution_count": 3,
   "id": "5cb6b195",
   "metadata": {},
   "outputs": [],
   "source": [
    "# Main Functionality\n",
    "def predict(student):\n",
    "    '''\n",
    "    Returns a prediction on whether the student will be a good employee\n",
    "    based on given parameters by using the ML model\n",
    "\n",
    "    Parameters\n",
    "    ----------\n",
    "    student : dict\n",
    "        A dictionary that contains all fields in Student\n",
    "    \n",
    "    Returns\n",
    "    -------\n",
    "    dict\n",
    "        A dictionary satisfying type PredictionResult, contains a single field\n",
    "        'good_employee' which is either 1 (will be a good employee) or 0 (will\n",
    "        not be a good employee)\n",
    "    '''\n",
    "    # Use Pydantic to validate model fields exist\n",
    "    student = parse_obj_as(Student, student)\n",
    "\n",
    "    clf = joblib.load('./model.pkl')\n",
    "    \n",
    "    student = student.dict(by_alias=True)\n",
    "    query = pd.DataFrame(student, index=[0])\n",
    "    prediction = clf.predict(query) # TODO: Error handling ??\n",
    "\n",
    "    return { 'good_employee': prediction[0] }"
   ]
  },
  {
   "cell_type": "markdown",
   "id": "3d6bf81d",
   "metadata": {},
   "source": [
    "All the code above was provided in the draft pull request. Now we will use the sample from the README.md file to make sure it works as intended."
   ]
  },
  {
   "cell_type": "code",
   "execution_count": 4,
   "id": "48d2f255",
   "metadata": {},
   "outputs": [],
   "source": [
    "student = {\n",
    "        \"student_id\": \"student1\",\n",
    "        \"major\": \"Computer Science\",\n",
    "        \"age\": \"20\",\n",
    "        \"gender\": \"M\",\n",
    "        \"gpa\": \"4.0\",\n",
    "        \"extra_curricular\": \"Men's Basketball\",\n",
    "        \"num_programming_languages\": \"1\",\n",
    "        \"num_past_internships\": \"2\"\n",
    "    }"
   ]
  },
  {
   "cell_type": "code",
   "execution_count": 5,
   "id": "f8249268",
   "metadata": {},
   "outputs": [
    {
     "data": {
      "text/plain": [
       "{'good_employee': 1}"
      ]
     },
     "execution_count": 5,
     "metadata": {},
     "output_type": "execute_result"
    }
   ],
   "source": [
    "predict(student)"
   ]
  },
  {
   "cell_type": "markdown",
   "id": "9ea28c47",
   "metadata": {},
   "source": [
    "It works :) Now we can start evaluating the model."
   ]
  },
  {
   "cell_type": "markdown",
   "id": "6c561b55",
   "metadata": {},
   "source": [
    "# Evaluating Model Performance & Fairness"
   ]
  },
  {
   "cell_type": "markdown",
   "id": "6d46ed89",
   "metadata": {},
   "source": [
    "Since we don't know how the model provided in the draft pull request was trained, we want to evaluate it before implementing it into NodeBB. In the rest of the notebook, we will be evaluating the model's performance and fairness."
   ]
  },
  {
   "cell_type": "markdown",
   "id": "89acea85",
   "metadata": {},
   "source": [
    "The engineer who created the model made the following assumptions:\n",
    "- The model is used to predict whether a student will be a good candidate for a software engineering job.\n",
    "- It is a binary classifier, where 1 means the student is a good candidate, and 0 means the student is not a good candidate.\n",
    "- The model is trained on a dataset of students who have graduated from CMU, and have been working in the industry for at least 1 year.\n",
    "- In order to prevent bias, they assumed that removing Gender (M, F) and Student ID from the dataset would be sufficient when it comes to training the model. They claimed that it is now Group Unaware, thus the model would be fair."
   ]
  },
  {
   "cell_type": "markdown",
   "id": "bf602778",
   "metadata": {},
   "source": [
    "The model specification is as follows:"
   ]
  },
  {
   "cell_type": "code",
   "execution_count": 6,
   "id": "9da8503e",
   "metadata": {},
   "outputs": [],
   "source": [
    "# X variable (input parameters)\n",
    "# - Age (18 - 25)\n",
    "# - Major (Computer Science, Information Systems, Business, Math,\n",
    "#          Electrical and Computer Engineering, Statistics and Machine Learning)\n",
    "# - GPA (0 - 4.0)\n",
    "# - Extra Curricular Activities (Student Theatre, Buggy, Teaching Assistant, Student Government,\n",
    "#     Society of Women Engineers, Women in CS, Volleyball, Sorority, Men's Basketball,\n",
    "#     American Football, Men's Golf, Fraternity)\n",
    "# - Number of Programming Languages (1, 2, 3, 4, 5)\n",
    "# - Number of Past Internships (0, 1, 2, 3, 4)\n",
    "\n",
    "# Y variable (output)\n",
    "# - Good Candidate (0, 1)"
   ]
  },
  {
   "cell_type": "markdown",
   "id": "ca3523aa",
   "metadata": {},
   "source": [
    "A test dataset has been provided to us in the following format:"
   ]
  },
  {
   "cell_type": "code",
   "execution_count": 7,
   "id": "c8574507",
   "metadata": {},
   "outputs": [],
   "source": [
    "# X variable\n",
    "# - Student ID\n",
    "# - Gender (M, F)\n",
    "# - Age (18 - 25)\n",
    "# - Major (Computer Science, Information Systems, Business, Math,\n",
    "#          Electrical and Computer Engineering, Statistics and Machine Learning)\n",
    "# - GPA (0 - 4.0)\n",
    "# - Extra Curricular Activities (Student Theatre, Buggy, Teaching Assistant, Student Government,\n",
    "#     Society of Women Engineers, Women in CS, Volleyball, Sorority, Men's Basketball,\n",
    "#     American Football, Men's Golf, Fraternity)\n",
    "#   # Likely Co-Ed (Student Theatre, Buggy, Teaching Assistant, Student Government)\n",
    "#   # Likely Majority Female (Society of Women Engineers, Women in CS, Volleyball, Sorority)\n",
    "#   # Likely Majority Male (Men's Basketball, American Football, Men's Golf, Fraternity)\n",
    "# - Number of Programming Languages (1, 2, 3, 4, 5)\n",
    "# - Number of Past Internships (0, 1, 2, 3, 4)\n",
    "\n",
    "# Y variable\n",
    "# - Good Candidate (0, 1)"
   ]
  },
  {
   "cell_type": "markdown",
   "id": "dc3ab41f",
   "metadata": {},
   "source": [
    "This test dataset is a different set of students from the training dataset, and the evaluation of whether the student is a good candidate is done by a fair panel of recruiters, so it can be considered to be unbiased. Additionally, the panel of recruiters have provided us with additional context on the extracurricular activities in comments (marked with #)."
   ]
  },
  {
   "cell_type": "markdown",
   "id": "77e40881",
   "metadata": {},
   "source": [
    "## Preliminary Analysis"
   ]
  },
  {
   "cell_type": "markdown",
   "id": "3974d995",
   "metadata": {},
   "source": [
    "Before we evaluate the fairness of the model, we want to do a prelimiary analysis on the test dataset."
   ]
  },
  {
   "cell_type": "code",
   "execution_count": 8,
   "id": "f1595d2e",
   "metadata": {},
   "outputs": [
    {
     "ename": "ModuleNotFoundError",
     "evalue": "No module named 'seaborn'",
     "output_type": "error",
     "traceback": [
      "\u001b[0;31m---------------------------------------------------------------------------\u001b[0m",
      "\u001b[0;31mModuleNotFoundError\u001b[0m                       Traceback (most recent call last)",
      "Cell \u001b[0;32mIn[8], line 3\u001b[0m\n\u001b[1;32m      1\u001b[0m \u001b[39mimport\u001b[39;00m \u001b[39mpandas\u001b[39;00m \u001b[39mas\u001b[39;00m \u001b[39mpd\u001b[39;00m\n\u001b[1;32m      2\u001b[0m \u001b[39mimport\u001b[39;00m \u001b[39mpickle\u001b[39;00m\n\u001b[0;32m----> 3\u001b[0m \u001b[39mimport\u001b[39;00m \u001b[39mseaborn\u001b[39;00m \u001b[39mas\u001b[39;00m \u001b[39msns\u001b[39;00m\n\u001b[1;32m      4\u001b[0m \u001b[39mimport\u001b[39;00m \u001b[39mmatplotlib\u001b[39;00m\u001b[39m.\u001b[39;00m\u001b[39mpyplot\u001b[39;00m \u001b[39mas\u001b[39;00m \u001b[39mplt\u001b[39;00m\n\u001b[1;32m      5\u001b[0m \u001b[39mimport\u001b[39;00m \u001b[39mnumpy\u001b[39;00m \u001b[39mas\u001b[39;00m \u001b[39mnp\u001b[39;00m\n",
      "\u001b[0;31mModuleNotFoundError\u001b[0m: No module named 'seaborn'"
     ]
    }
   ],
   "source": [
    "import pandas as pd\n",
    "import pickle\n",
    "import seaborn as sns\n",
    "import matplotlib.pyplot as plt\n",
    "import numpy as np\n",
    "from sklearn.metrics import accuracy_score\n",
    "from sklearn.metrics import confusion_matrix"
   ]
  },
  {
   "cell_type": "markdown",
   "id": "bca62d5a",
   "metadata": {},
   "source": [
    "### Loading the Model and Test Dataset"
   ]
  },
  {
   "cell_type": "markdown",
   "id": "d1184c86",
   "metadata": {},
   "source": [
    "The first thing we have to do is load the model and test dataset."
   ]
  },
  {
   "cell_type": "code",
   "execution_count": 9,
   "id": "bbb2c680",
   "metadata": {},
   "outputs": [],
   "source": [
    "test_df = pd.read_csv(\"student_data.csv\")\n",
    "model = pickle.load(open(\"model.pkl\",\"rb\"))"
   ]
  },
  {
   "cell_type": "markdown",
   "id": "80298167",
   "metadata": {},
   "source": [
    "### Plotting the Distributions of the Test Dataset"
   ]
  },
  {
   "cell_type": "markdown",
   "id": "81452603",
   "metadata": {},
   "source": [
    "Now we want to plot the distribution of the test dataset across all features (except Student ID). We will be using the seaborn library."
   ]
  },
  {
   "cell_type": "code",
   "execution_count": 10,
   "id": "4843c010",
   "metadata": {},
   "outputs": [
    {
     "data": {
      "text/html": [
       "<div>\n",
       "<style scoped>\n",
       "    .dataframe tbody tr th:only-of-type {\n",
       "        vertical-align: middle;\n",
       "    }\n",
       "\n",
       "    .dataframe tbody tr th {\n",
       "        vertical-align: top;\n",
       "    }\n",
       "\n",
       "    .dataframe thead th {\n",
       "        text-align: right;\n",
       "    }\n",
       "</style>\n",
       "<table border=\"1\" class=\"dataframe\">\n",
       "  <thead>\n",
       "    <tr style=\"text-align: right;\">\n",
       "      <th></th>\n",
       "      <th>Student ID</th>\n",
       "      <th>Gender</th>\n",
       "      <th>Age</th>\n",
       "      <th>Major</th>\n",
       "      <th>GPA</th>\n",
       "      <th>Extra Curricular</th>\n",
       "      <th>Num Programming Languages</th>\n",
       "      <th>Num Past Internships</th>\n",
       "      <th>Good Candidate</th>\n",
       "    </tr>\n",
       "  </thead>\n",
       "  <tbody>\n",
       "    <tr>\n",
       "      <th>0</th>\n",
       "      <td>0</td>\n",
       "      <td>F</td>\n",
       "      <td>21</td>\n",
       "      <td>Statistics and Machine Learning</td>\n",
       "      <td>2.83</td>\n",
       "      <td>Sorority</td>\n",
       "      <td>4</td>\n",
       "      <td>1</td>\n",
       "      <td>0</td>\n",
       "    </tr>\n",
       "    <tr>\n",
       "      <th>1</th>\n",
       "      <td>1</td>\n",
       "      <td>M</td>\n",
       "      <td>20</td>\n",
       "      <td>Information Systems</td>\n",
       "      <td>2.89</td>\n",
       "      <td>Fraternity</td>\n",
       "      <td>5</td>\n",
       "      <td>3</td>\n",
       "      <td>0</td>\n",
       "    </tr>\n",
       "    <tr>\n",
       "      <th>2</th>\n",
       "      <td>2</td>\n",
       "      <td>F</td>\n",
       "      <td>20</td>\n",
       "      <td>Math</td>\n",
       "      <td>2.66</td>\n",
       "      <td>Teaching Assistant</td>\n",
       "      <td>3</td>\n",
       "      <td>1</td>\n",
       "      <td>0</td>\n",
       "    </tr>\n",
       "    <tr>\n",
       "      <th>3</th>\n",
       "      <td>3</td>\n",
       "      <td>M</td>\n",
       "      <td>20</td>\n",
       "      <td>Information Systems</td>\n",
       "      <td>2.48</td>\n",
       "      <td>Fraternity</td>\n",
       "      <td>5</td>\n",
       "      <td>0</td>\n",
       "      <td>0</td>\n",
       "    </tr>\n",
       "    <tr>\n",
       "      <th>4</th>\n",
       "      <td>4</td>\n",
       "      <td>F</td>\n",
       "      <td>21</td>\n",
       "      <td>Statistics and Machine Learning</td>\n",
       "      <td>3.30</td>\n",
       "      <td>Sorority</td>\n",
       "      <td>2</td>\n",
       "      <td>1</td>\n",
       "      <td>0</td>\n",
       "    </tr>\n",
       "  </tbody>\n",
       "</table>\n",
       "</div>"
      ],
      "text/plain": [
       "   Student ID Gender  Age                            Major   GPA  \\\n",
       "0           0      F   21  Statistics and Machine Learning  2.83   \n",
       "1           1      M   20              Information Systems  2.89   \n",
       "2           2      F   20                             Math  2.66   \n",
       "3           3      M   20              Information Systems  2.48   \n",
       "4           4      F   21  Statistics and Machine Learning  3.30   \n",
       "\n",
       "     Extra Curricular  Num Programming Languages  Num Past Internships  \\\n",
       "0            Sorority                          4                     1   \n",
       "1          Fraternity                          5                     3   \n",
       "2  Teaching Assistant                          3                     1   \n",
       "3          Fraternity                          5                     0   \n",
       "4            Sorority                          2                     1   \n",
       "\n",
       "   Good Candidate  \n",
       "0               0  \n",
       "1               0  \n",
       "2               0  \n",
       "3               0  \n",
       "4               0  "
      ]
     },
     "execution_count": 10,
     "metadata": {},
     "output_type": "execute_result"
    }
   ],
   "source": [
    "test_df.head()"
   ]
  },
  {
   "cell_type": "code",
   "execution_count": 11,
   "id": "e34ca1a2",
   "metadata": {},
   "outputs": [
    {
     "data": {
      "text/html": [
       "<div>\n",
       "<style scoped>\n",
       "    .dataframe tbody tr th:only-of-type {\n",
       "        vertical-align: middle;\n",
       "    }\n",
       "\n",
       "    .dataframe tbody tr th {\n",
       "        vertical-align: top;\n",
       "    }\n",
       "\n",
       "    .dataframe thead th {\n",
       "        text-align: right;\n",
       "    }\n",
       "</style>\n",
       "<table border=\"1\" class=\"dataframe\">\n",
       "  <thead>\n",
       "    <tr style=\"text-align: right;\">\n",
       "      <th></th>\n",
       "      <th>Student ID</th>\n",
       "      <th>Age</th>\n",
       "      <th>GPA</th>\n",
       "      <th>Num Programming Languages</th>\n",
       "      <th>Num Past Internships</th>\n",
       "      <th>Good Candidate</th>\n",
       "    </tr>\n",
       "  </thead>\n",
       "  <tbody>\n",
       "    <tr>\n",
       "      <th>count</th>\n",
       "      <td>500.000000</td>\n",
       "      <td>500.000000</td>\n",
       "      <td>500.000000</td>\n",
       "      <td>500.00000</td>\n",
       "      <td>500.000000</td>\n",
       "      <td>500.000000</td>\n",
       "    </tr>\n",
       "    <tr>\n",
       "      <th>mean</th>\n",
       "      <td>249.500000</td>\n",
       "      <td>20.944000</td>\n",
       "      <td>2.905780</td>\n",
       "      <td>3.04600</td>\n",
       "      <td>2.052000</td>\n",
       "      <td>0.474000</td>\n",
       "    </tr>\n",
       "    <tr>\n",
       "      <th>std</th>\n",
       "      <td>144.481833</td>\n",
       "      <td>1.455025</td>\n",
       "      <td>0.839559</td>\n",
       "      <td>1.36073</td>\n",
       "      <td>1.407572</td>\n",
       "      <td>0.499824</td>\n",
       "    </tr>\n",
       "    <tr>\n",
       "      <th>min</th>\n",
       "      <td>0.000000</td>\n",
       "      <td>18.000000</td>\n",
       "      <td>0.000000</td>\n",
       "      <td>1.00000</td>\n",
       "      <td>0.000000</td>\n",
       "      <td>0.000000</td>\n",
       "    </tr>\n",
       "    <tr>\n",
       "      <th>25%</th>\n",
       "      <td>124.750000</td>\n",
       "      <td>20.000000</td>\n",
       "      <td>2.345000</td>\n",
       "      <td>2.00000</td>\n",
       "      <td>1.000000</td>\n",
       "      <td>0.000000</td>\n",
       "    </tr>\n",
       "    <tr>\n",
       "      <th>50%</th>\n",
       "      <td>249.500000</td>\n",
       "      <td>21.000000</td>\n",
       "      <td>2.990000</td>\n",
       "      <td>3.00000</td>\n",
       "      <td>2.000000</td>\n",
       "      <td>0.000000</td>\n",
       "    </tr>\n",
       "    <tr>\n",
       "      <th>75%</th>\n",
       "      <td>374.250000</td>\n",
       "      <td>22.000000</td>\n",
       "      <td>3.560000</td>\n",
       "      <td>4.00000</td>\n",
       "      <td>3.000000</td>\n",
       "      <td>1.000000</td>\n",
       "    </tr>\n",
       "    <tr>\n",
       "      <th>max</th>\n",
       "      <td>499.000000</td>\n",
       "      <td>25.000000</td>\n",
       "      <td>4.000000</td>\n",
       "      <td>5.00000</td>\n",
       "      <td>4.000000</td>\n",
       "      <td>1.000000</td>\n",
       "    </tr>\n",
       "  </tbody>\n",
       "</table>\n",
       "</div>"
      ],
      "text/plain": [
       "       Student ID         Age         GPA  Num Programming Languages  \\\n",
       "count  500.000000  500.000000  500.000000                  500.00000   \n",
       "mean   249.500000   20.944000    2.905780                    3.04600   \n",
       "std    144.481833    1.455025    0.839559                    1.36073   \n",
       "min      0.000000   18.000000    0.000000                    1.00000   \n",
       "25%    124.750000   20.000000    2.345000                    2.00000   \n",
       "50%    249.500000   21.000000    2.990000                    3.00000   \n",
       "75%    374.250000   22.000000    3.560000                    4.00000   \n",
       "max    499.000000   25.000000    4.000000                    5.00000   \n",
       "\n",
       "       Num Past Internships  Good Candidate  \n",
       "count            500.000000      500.000000  \n",
       "mean               2.052000        0.474000  \n",
       "std                1.407572        0.499824  \n",
       "min                0.000000        0.000000  \n",
       "25%                1.000000        0.000000  \n",
       "50%                2.000000        0.000000  \n",
       "75%                3.000000        1.000000  \n",
       "max                4.000000        1.000000  "
      ]
     },
     "execution_count": 11,
     "metadata": {},
     "output_type": "execute_result"
    }
   ],
   "source": [
    "test_df.describe()"
   ]
  },
  {
   "cell_type": "markdown",
   "id": "fbe04d47",
   "metadata": {},
   "source": [
    "Gender (Categorical - M/F)\n",
    "- Bar chart: Show the count of each gender category using bars."
   ]
  },
  {
   "cell_type": "code",
   "execution_count": 12,
   "id": "c93130ad",
   "metadata": {},
   "outputs": [
    {
     "ename": "NameError",
     "evalue": "name 'np' is not defined",
     "output_type": "error",
     "traceback": [
      "\u001b[0;31m---------------------------------------------------------------------------\u001b[0m",
      "\u001b[0;31mNameError\u001b[0m                                 Traceback (most recent call last)",
      "Cell \u001b[0;32mIn[12], line 7\u001b[0m\n\u001b[1;32m      5\u001b[0m colors \u001b[39m=\u001b[39m [\u001b[39m\"\u001b[39m\u001b[39m#F72585\u001b[39m\u001b[39m\"\u001b[39m, \u001b[39m\"\u001b[39m\u001b[39m#C6009F\u001b[39m\u001b[39m\"\u001b[39m, \u001b[39m\"\u001b[39m\u001b[39m#7209B7\u001b[39m\u001b[39m\"\u001b[39m, \u001b[39m\"\u001b[39m\u001b[39m#3A0CA3\u001b[39m\u001b[39m\"\u001b[39m, \u001b[39m\"\u001b[39m\u001b[39m#4361EE\u001b[39m\u001b[39m\"\u001b[39m, \u001b[39m\"\u001b[39m\u001b[39mdeepskyblue\u001b[39m\u001b[39m\"\u001b[39m]\n\u001b[1;32m      6\u001b[0m n_colors \u001b[39m=\u001b[39m \u001b[39mlen\u001b[39m(colors)\n\u001b[0;32m----> 7\u001b[0m color_ramp \u001b[39m=\u001b[39m np\u001b[39m.\u001b[39mlinspace(\u001b[39m0\u001b[39m, \u001b[39m1\u001b[39m, n_colors)\n\u001b[1;32m      8\u001b[0m colormap \u001b[39m=\u001b[39m plt\u001b[39m.\u001b[39mmatplotlib\u001b[39m.\u001b[39mcolors\u001b[39m.\u001b[39mLinearSegmentedColormap\u001b[39m.\u001b[39mfrom_list(\u001b[39m\"\u001b[39m\u001b[39mcustom_colormap\u001b[39m\u001b[39m\"\u001b[39m, \u001b[39mlist\u001b[39m(\u001b[39mzip\u001b[39m(color_ramp, colors)))\n\u001b[1;32m     10\u001b[0m \u001b[39m# Create the custom colormap\u001b[39;00m\n",
      "\u001b[0;31mNameError\u001b[0m: name 'np' is not defined"
     ]
    }
   ],
   "source": [
    "# Group the data by gender and count the occurrences\n",
    "gender_counts = test_df[\"Gender\"].value_counts()\n",
    "\n",
    "# Define a custom color ramp palette using Matplotlib's LinearSegmentedColormap\n",
    "colors = [\"#F72585\", \"#C6009F\", \"#7209B7\", \"#3A0CA3\", \"#4361EE\", \"deepskyblue\"]\n",
    "n_colors = len(colors)\n",
    "color_ramp = np.linspace(0, 1, n_colors)\n",
    "colormap = plt.matplotlib.colors.LinearSegmentedColormap.from_list(\"custom_colormap\", list(zip(color_ramp, colors)))\n",
    "\n",
    "# Create the custom colormap\n",
    "num_colors = 2\n",
    "color_list = [colormap(i / (num_colors - 1)) for i in range(num_colors)]\n",
    "\n",
    "# Create a bar chart\n",
    "sns.barplot(x=gender_counts.index, y=gender_counts.values, palette=color_list, hue=gender_counts.index, legend=False)\n",
    "plt.title(\"Gender Distribution\")\n",
    "plt.xlabel(\"Gender\")\n",
    "plt.ylabel(\"Count\")\n",
    "plt.show()"
   ]
  },
  {
   "cell_type": "markdown",
   "metadata": {},
   "source": [
    "The gender distribution seems pretty fair and even, but we know it's not used in the model according to the draft pull request so we don't need to worry about it."
   ]
  },
  {
   "cell_type": "markdown",
   "id": "95a5a9b3",
   "metadata": {},
   "source": [
    "Age (Numerical - Integer)\n",
    "- Histogram: Visualize the distribution of ages using a histogram."
   ]
  },
  {
   "cell_type": "code",
   "execution_count": 13,
   "id": "b48b1c93",
   "metadata": {},
   "outputs": [
    {
     "ename": "NameError",
     "evalue": "name 'sns' is not defined",
     "output_type": "error",
     "traceback": [
      "\u001b[0;31m---------------------------------------------------------------------------\u001b[0m",
      "\u001b[0;31mNameError\u001b[0m                                 Traceback (most recent call last)",
      "Cell \u001b[0;32mIn[13], line 2\u001b[0m\n\u001b[1;32m      1\u001b[0m \u001b[39m# Create a histogram using Seaborn\u001b[39;00m\n\u001b[0;32m----> 2\u001b[0m sns\u001b[39m.\u001b[39mhistplot(test_df[\u001b[39m\"\u001b[39m\u001b[39mAge\u001b[39m\u001b[39m\"\u001b[39m], bins\u001b[39m=\u001b[39m\u001b[39m7\u001b[39m, color\u001b[39m=\u001b[39m\u001b[39m\"\u001b[39m\u001b[39mdeepskyblue\u001b[39m\u001b[39m\"\u001b[39m)\n\u001b[1;32m      3\u001b[0m plt\u001b[39m.\u001b[39mxlabel(\u001b[39m\"\u001b[39m\u001b[39mAge\u001b[39m\u001b[39m\"\u001b[39m)\n\u001b[1;32m      4\u001b[0m plt\u001b[39m.\u001b[39mylabel(\u001b[39m\"\u001b[39m\u001b[39mFrequency\u001b[39m\u001b[39m\"\u001b[39m)\n",
      "\u001b[0;31mNameError\u001b[0m: name 'sns' is not defined"
     ]
    }
   ],
   "source": [
    "# Create a histogram using Seaborn\n",
    "sns.histplot(test_df[\"Age\"], bins=7, color=\"deepskyblue\")\n",
    "plt.xlabel(\"Age\")\n",
    "plt.ylabel(\"Frequency\")\n",
    "plt.title(\"Age Distribution\")\n",
    "plt.show()"
   ]
  },
  {
   "cell_type": "markdown",
   "metadata": {},
   "source": [
    "Unfortunately, we do not have a very even representation of ages at all. While we could assume most students fall between 20-23, there isn't really enough test data on this to show how well the model uses ages as a feature."
   ]
  },
  {
   "cell_type": "markdown",
   "id": "fedc5a2b",
   "metadata": {},
   "source": [
    "Major (Categorical - String)\n",
    "- Bar chart: Show the count of each major category."
   ]
  },
  {
   "cell_type": "code",
   "execution_count": 14,
   "id": "410820d6",
   "metadata": {},
   "outputs": [
    {
     "ename": "NameError",
     "evalue": "name 'colormap' is not defined",
     "output_type": "error",
     "traceback": [
      "\u001b[0;31m---------------------------------------------------------------------------\u001b[0m",
      "\u001b[0;31mNameError\u001b[0m                                 Traceback (most recent call last)",
      "Cell \u001b[0;32mIn[14], line 9\u001b[0m\n\u001b[1;32m      7\u001b[0m \u001b[39m# Create the custom colormap\u001b[39;00m\n\u001b[1;32m      8\u001b[0m num_colors \u001b[39m=\u001b[39m \u001b[39m6\u001b[39m\n\u001b[0;32m----> 9\u001b[0m color_list \u001b[39m=\u001b[39m [colormap(i \u001b[39m/\u001b[39m (num_colors \u001b[39m-\u001b[39m \u001b[39m1\u001b[39m)) \u001b[39mfor\u001b[39;00m i \u001b[39min\u001b[39;00m \u001b[39mrange\u001b[39m(num_colors)]\n\u001b[1;32m     11\u001b[0m \u001b[39m# Create a barplot using Seaborn with modified labels\u001b[39;00m\n\u001b[1;32m     12\u001b[0m sns\u001b[39m.\u001b[39mbarplot(x\u001b[39m=\u001b[39mwrapped_labels, y\u001b[39m=\u001b[39mmajor_counts\u001b[39m.\u001b[39mvalues, palette\u001b[39m=\u001b[39mcolor_list, hue\u001b[39m=\u001b[39mwrapped_labels, legend\u001b[39m=\u001b[39m\u001b[39mFalse\u001b[39;00m)\n",
      "Cell \u001b[0;32mIn[14], line 9\u001b[0m, in \u001b[0;36m<listcomp>\u001b[0;34m(.0)\u001b[0m\n\u001b[1;32m      7\u001b[0m \u001b[39m# Create the custom colormap\u001b[39;00m\n\u001b[1;32m      8\u001b[0m num_colors \u001b[39m=\u001b[39m \u001b[39m6\u001b[39m\n\u001b[0;32m----> 9\u001b[0m color_list \u001b[39m=\u001b[39m [colormap(i \u001b[39m/\u001b[39m (num_colors \u001b[39m-\u001b[39m \u001b[39m1\u001b[39m)) \u001b[39mfor\u001b[39;00m i \u001b[39min\u001b[39;00m \u001b[39mrange\u001b[39m(num_colors)]\n\u001b[1;32m     11\u001b[0m \u001b[39m# Create a barplot using Seaborn with modified labels\u001b[39;00m\n\u001b[1;32m     12\u001b[0m sns\u001b[39m.\u001b[39mbarplot(x\u001b[39m=\u001b[39mwrapped_labels, y\u001b[39m=\u001b[39mmajor_counts\u001b[39m.\u001b[39mvalues, palette\u001b[39m=\u001b[39mcolor_list, hue\u001b[39m=\u001b[39mwrapped_labels, legend\u001b[39m=\u001b[39m\u001b[39mFalse\u001b[39;00m)\n",
      "\u001b[0;31mNameError\u001b[0m: name 'colormap' is not defined"
     ]
    }
   ],
   "source": [
    "# Count the occurrences of each major category\n",
    "major_counts = test_df[\"Major\"].value_counts()\n",
    "\n",
    "# Modify labels to wrap after every space\n",
    "wrapped_labels = [label.replace(\" \", \"\\n\") for label in major_counts.index]\n",
    "\n",
    "# Create the custom colormap\n",
    "num_colors = 6\n",
    "color_list = [colormap(i / (num_colors - 1)) for i in range(num_colors)]\n",
    "\n",
    "# Create a barplot using Seaborn with modified labels\n",
    "sns.barplot(x=wrapped_labels, y=major_counts.values, palette=color_list, hue=wrapped_labels, legend=False)\n",
    "\n",
    "plt.title(\"Major Distribution\")\n",
    "plt.xlabel(\"Major\")\n",
    "plt.ylabel(\"Count\")\n",
    "plt.tight_layout()\n",
    "plt.show()"
   ]
  },
  {
   "cell_type": "markdown",
   "metadata": {},
   "source": [
    "The major distribution is fairly even, which is good."
   ]
  },
  {
   "cell_type": "markdown",
   "id": "415350cb",
   "metadata": {},
   "source": [
    "GPA (Numerical - Float)\n",
    "- Histogram: Visualize the distribution of GPAs using a histogram."
   ]
  },
  {
   "cell_type": "code",
   "execution_count": 16,
   "id": "efb28be5",
   "metadata": {},
   "outputs": [
    {
     "data": {
      "image/png": "[encoded data removed]",
      "text/plain": [
       "<Figure size 432x288 with 1 Axes>"
      ]
     },
     "metadata": {
      "needs_background": "light"
     },
     "output_type": "display_data"
    }
   ],
   "source": [
    "sns.histplot(test_df[\"GPA\"], bins=16, color=\"deepskyblue\")\n",
    "plt.xlabel(\"GPA\")\n",
    "plt.ylabel(\"Frequency\")\n",
    "plt.title(\"GPA Distribution\")\n",
    "plt.show()"
   ]
  },
  {
   "cell_type": "markdown",
   "metadata": {},
   "source": [
    "We do not have enough data in the test set for lower GPAs to know whether the model really uses the GPA feature well when predicting the output. Also, the overrepresentation of 3.5+ GPAs on the test set might indicate a similar problem could have occured while training the model."
   ]
  },
  {
   "cell_type": "markdown",
   "id": "24236a5d",
   "metadata": {},
   "source": [
    "Extra Curricular (Categorical - String)\n",
    "- Bar chart: Show the count of each type of extracurricular activity."
   ]
  },
  {
   "cell_type": "code",
   "execution_count": 17,
   "id": "9a6ad901",
   "metadata": {},
   "outputs": [
    {
     "data": {
      "image/png": "[encoded data removed]",
      "text/plain": [
       "<Figure size 432x288 with 1 Axes>"
      ]
     },
     "metadata": {
      "needs_background": "light"
     },
     "output_type": "display_data"
    }
   ],
   "source": [
    "# Count the occurrences of each extra-curricular category\n",
    "ec_counts = test_df[\"Extra Curricular\"].value_counts()\n",
    "\n",
    "# Create a barplot using Seaborn with the custom colormap\n",
    "num_colors = 12\n",
    "color_list = [colormap(i / (num_colors - 1)) for i in range(num_colors)]\n",
    "sns.barplot(x=ec_counts.index, y=ec_counts.values, palette=color_list, hue=ec_counts.index, legend=False)\n",
    "\n",
    "# Modify labels to wrap after every space\n",
    "wrapped_labels = [label.replace(\" \", \"\\n\") for label in ec_counts.index]\n",
    "\n",
    "# Set the modified labels as xticklabels\n",
    "plt.xticks(range(len(wrapped_labels)), wrapped_labels)\n",
    "\n",
    "plt.title(\"Extra Curricular Distribution\")\n",
    "plt.xlabel(\"Extra Curricular\")\n",
    "plt.ylabel(\"Count\")\n",
    "plt.xticks(rotation=90)  # Rotate x-axis labels for better readability\n",
    "plt.tight_layout()\n",
    "plt.show()"
   ]
  },
  {
   "cell_type": "markdown",
   "metadata": {},
   "source": [
    "Extra-curriculars seem quite evenly distributed, so this looks good."
   ]
  },
  {
   "cell_type": "markdown",
   "id": "3ff31a1d",
   "metadata": {},
   "source": [
    "Num Programming Languages (Numerical - Integer)\n",
    "- Bar chart: Show the count of the number of programming languages.\n",
    "- Could use a histogram, but the range is not that big."
   ]
  },
  {
   "cell_type": "code",
   "execution_count": 18,
   "id": "1ee81f6f-aa5c-4933-b163-93118484e8db",
   "metadata": {},
   "outputs": [
    {
     "data": {
      "image/png": "[encoded data removed]",
      "text/plain": [
       "<Figure size 432x288 with 1 Axes>"
      ]
     },
     "metadata": {
      "needs_background": "light"
     },
     "output_type": "display_data"
    }
   ],
   "source": [
    "# Create the custom colormap\n",
    "num_colors = 5\n",
    "color_list = [colormap(i / (num_colors - 1)) for i in range(num_colors)]\n",
    "\n",
    "# Create the barplot\n",
    "sns.countplot(data=test_df, x=\"Num Programming Languages\", palette=color_list, hue=\"Num Programming Languages\", legend=False)\n",
    "plt.title(\"Number of Programming Languages Distribution\")\n",
    "plt.show()"
   ]
  },
  {
   "cell_type": "markdown",
   "metadata": {},
   "source": [
    "There seems to be a good distribution of programming languages as well."
   ]
  },
  {
   "cell_type": "markdown",
   "id": "6644de77",
   "metadata": {},
   "source": [
    "Num Past Internships (Numerical - Integer)\n",
    "- Bar chart: Show the count of the number of past internships.\n",
    "- Could use a histogram, but the range is not that big."
   ]
  },
  {
   "cell_type": "code",
   "execution_count": 19,
   "id": "fd4a78c6",
   "metadata": {},
   "outputs": [
    {
     "data": {
      "image/png": "[encoded data removed]",
      "text/plain": [
       "<Figure size 432x288 with 1 Axes>"
      ]
     },
     "metadata": {
      "needs_background": "light"
     },
     "output_type": "display_data"
    }
   ],
   "source": [
    "# Create the custom colormap\n",
    "num_colors = 5\n",
    "color_list = [colormap(i / (num_colors - 1)) for i in range(num_colors)]\n",
    "\n",
    "# Create the barplot\n",
    "sns.countplot(data=test_df, x=\"Num Past Internships\", palette=color_list, hue=\"Num Past Internships\", legend=False)\n",
    "plt.title(\"Number of Past Internships Distribution\")\n",
    "plt.show()"
   ]
  },
  {
   "cell_type": "markdown",
   "metadata": {},
   "source": [
    "We also find a good and even distribution for the number of past internships."
   ]
  },
  {
   "cell_type": "markdown",
   "id": "7b7a11f9",
   "metadata": {},
   "source": [
    "Good Candidate (Target - Binary)\n",
    "- Bar chart: Show the distribution of candidates being classified as \"good\" (1) or not (0)."
   ]
  },
  {
   "cell_type": "code",
   "execution_count": 20,
   "id": "7a9cf756",
   "metadata": {},
   "outputs": [
    {
     "data": {
      "image/png": "[encoded data removed]",
      "text/plain": [
       "<Figure size 432x288 with 1 Axes>"
      ]
     },
     "metadata": {
      "needs_background": "light"
     },
     "output_type": "display_data"
    }
   ],
   "source": [
    "# Create the custom colormap\n",
    "num_colors = 2\n",
    "color_list = [colormap(i / (num_colors - 1)) for i in range(num_colors)]\n",
    "\n",
    "sns.countplot(data=test_df, x=\"Good Candidate\", palette=color_list, hue=\"Good Candidate\", legend=False)\n",
    "plt.title(\"Good Candidate Distribution\")\n",
    "plt.show()"
   ]
  },
  {
   "cell_type": "markdown",
   "metadata": {},
   "source": [
    "The targets also seem to be balanced in the test set, which is good for using accuracy score as a metric."
   ]
  },
  {
   "cell_type": "markdown",
   "id": "4b52337e",
   "metadata": {},
   "source": [
    "## Running the Model"
   ]
  },
  {
   "cell_type": "markdown",
   "id": "01a0b2a6",
   "metadata": {},
   "source": [
    "Now we will run the model on the test dataset to get the accuracy of the model."
   ]
  },
  {
   "cell_type": "markdown",
   "id": "8ad8c7da",
   "metadata": {},
   "source": [
    "First, we have to predict the output of the test dataset using the model."
   ]
  },
  {
   "cell_type": "code",
   "execution_count": 15,
   "id": "2ae9eac2",
   "metadata": {},
   "outputs": [],
   "source": [
    "# we split the data into our inputs and the label\n",
    "test_df = test_df.drop([\"Student ID\"], axis=1)\n",
    "x_test = test_df.drop([\"Good Candidate\"], axis=1)\n",
    "y_test = test_df[\"Good Candidate\"]"
   ]
  },
  {
   "cell_type": "code",
   "execution_count": 16,
   "id": "1878e22c-0eb3-4406-8d9e-90a1c1d1fe4d",
   "metadata": {},
   "outputs": [],
   "source": [
    "# perform the predictions using the predict function built into the model, which we have also described at the beginning of the notebook.\n",
    "y_pred = model.predict(x_test)"
   ]
  },
  {
   "cell_type": "markdown",
   "id": "4fcd4cd5",
   "metadata": {},
   "source": [
    "Now we can report the accuracy of the model along with the confusion matrix."
   ]
  },
  {
   "cell_type": "code",
   "execution_count": 17,
   "id": "cda24cb3",
   "metadata": {
    "scrolled": true
   },
   "outputs": [
    {
     "ename": "NameError",
     "evalue": "name 'accuracy_score' is not defined",
     "output_type": "error",
     "traceback": [
      "\u001b[0;31m---------------------------------------------------------------------------\u001b[0m",
      "\u001b[0;31mNameError\u001b[0m                                 Traceback (most recent call last)",
      "Cell \u001b[0;32mIn[17], line 2\u001b[0m\n\u001b[1;32m      1\u001b[0m \u001b[39m# now we can compute the accuracy of those predictions\u001b[39;00m\n\u001b[0;32m----> 2\u001b[0m \u001b[39mprint\u001b[39m(\u001b[39m'\u001b[39m\u001b[39mAccuracy Score: \u001b[39m\u001b[39m'\u001b[39m, accuracy_score(y_pred, y_test))\n",
      "\u001b[0;31mNameError\u001b[0m: name 'accuracy_score' is not defined"
     ]
    }
   ],
   "source": [
    "# now we can compute the accuracy of those predictions\n",
    "print('Accuracy Score: ', accuracy_score(y_pred, y_test))"
   ]
  },
  {
   "cell_type": "markdown",
   "metadata": {},
   "source": [
    "An accuracy of 83.2% is a good result, but we would want to aim for something closer to 90-95%. Still, the provided model is not bad according to this."
   ]
  },
  {
   "cell_type": "code",
   "execution_count": 18,
   "id": "eb69d694-8606-4ca1-8649-38844707fdc6",
   "metadata": {},
   "outputs": [
    {
     "ename": "NameError",
     "evalue": "name 'confusion_matrix' is not defined",
     "output_type": "error",
     "traceback": [
      "\u001b[0;31m---------------------------------------------------------------------------\u001b[0m",
      "\u001b[0;31mNameError\u001b[0m                                 Traceback (most recent call last)",
      "Cell \u001b[0;32mIn[18], line 2\u001b[0m\n\u001b[1;32m      1\u001b[0m \u001b[39m# Create a confusion matrix\u001b[39;00m\n\u001b[0;32m----> 2\u001b[0m conf_matrix \u001b[39m=\u001b[39m confusion_matrix(y_test, y_pred)\n\u001b[1;32m      4\u001b[0m \u001b[39m# Create a heatmap of the confusion matrix\u001b[39;00m\n\u001b[1;32m      5\u001b[0m plt\u001b[39m.\u001b[39mfigure(figsize\u001b[39m=\u001b[39m(\u001b[39m8\u001b[39m, \u001b[39m6\u001b[39m))\n",
      "\u001b[0;31mNameError\u001b[0m: name 'confusion_matrix' is not defined"
     ]
    }
   ],
   "source": [
    "# Create a confusion matrix\n",
    "conf_matrix = confusion_matrix(y_test, y_pred)\n",
    "\n",
    "# Create a heatmap of the confusion matrix\n",
    "plt.figure(figsize=(8, 6))\n",
    "sns.heatmap(conf_matrix, annot=True, fmt=\"d\", cmap=sns.cubehelix_palette(start=.5, rot=-.5, as_cmap=True), cbar=False)\n",
    "plt.xlabel(\"Predicted Labels\")\n",
    "plt.ylabel(\"True Labels\")\n",
    "plt.title(\"Confusion Matrix\")\n",
    "plt.show()"
   ]
  },
  {
   "cell_type": "markdown",
   "metadata": {},
   "source": [
    "The confusion matrix further emphasizes that we want a more accurate model than the one the engineer provided to us, as 84 students being misrepresented in the career feature is quite a lot from a subjective standpoint."
   ]
  },
  {
   "cell_type": "markdown",
   "id": "35ecca7e",
   "metadata": {},
   "source": [
    "# Descriptive Statistics - Here, we want to find some descriptive statistics about the test data."
   ]
  },
  {
   "cell_type": "code",
   "execution_count": 19,
   "id": "943b1fd3",
   "metadata": {},
   "outputs": [
    {
     "data": {
      "text/plain": [
       "Index(['Gender', 'Age', 'Major', 'GPA', 'Extra Curricular',\n",
       "       'Num Programming Languages', 'Num Past Internships', 'Good Candidate'],\n",
       "      dtype='object')"
      ]
     },
     "execution_count": 19,
     "metadata": {},
     "output_type": "execute_result"
    }
   ],
   "source": [
    "test_df.columns"
   ]
  },
  {
   "cell_type": "code",
   "execution_count": 20,
   "id": "73f9d42e",
   "metadata": {},
   "outputs": [],
   "source": [
    "test_df = pd.get_dummies(test_df, columns=['Gender'], prefix=['Gender'], drop_first=True)"
   ]
  },
  {
   "cell_type": "code",
   "execution_count": 21,
   "id": "0c818505",
   "metadata": {},
   "outputs": [
    {
     "data": {
      "text/plain": [
       "Index(['Age', 'Major', 'GPA', 'Extra Curricular', 'Num Programming Languages',\n",
       "       'Num Past Internships', 'Good Candidate', 'Gender_M'],\n",
       "      dtype='object')"
      ]
     },
     "execution_count": 21,
     "metadata": {},
     "output_type": "execute_result"
    }
   ],
   "source": [
    "test_df.columns"
   ]
  },
  {
   "cell_type": "code",
   "execution_count": 22,
   "id": "31401573",
   "metadata": {},
   "outputs": [
    {
     "data": {
      "text/html": [
       "<div>\n",
       "<style scoped>\n",
       "    .dataframe tbody tr th:only-of-type {\n",
       "        vertical-align: middle;\n",
       "    }\n",
       "\n",
       "    .dataframe tbody tr th {\n",
       "        vertical-align: top;\n",
       "    }\n",
       "\n",
       "    .dataframe thead th {\n",
       "        text-align: right;\n",
       "    }\n",
       "</style>\n",
       "<table border=\"1\" class=\"dataframe\">\n",
       "  <thead>\n",
       "    <tr style=\"text-align: right;\">\n",
       "      <th></th>\n",
       "      <th>Age</th>\n",
       "      <th>GPA</th>\n",
       "      <th>Num Programming Languages</th>\n",
       "      <th>Num Past Internships</th>\n",
       "      <th>Good Candidate</th>\n",
       "      <th>Gender_M</th>\n",
       "    </tr>\n",
       "  </thead>\n",
       "  <tbody>\n",
       "    <tr>\n",
       "      <th>count</th>\n",
       "      <td>500.000000</td>\n",
       "      <td>500.000000</td>\n",
       "      <td>500.00000</td>\n",
       "      <td>500.000000</td>\n",
       "      <td>500.000000</td>\n",
       "      <td>500.000000</td>\n",
       "    </tr>\n",
       "    <tr>\n",
       "      <th>mean</th>\n",
       "      <td>20.944000</td>\n",
       "      <td>2.905780</td>\n",
       "      <td>3.04600</td>\n",
       "      <td>2.052000</td>\n",
       "      <td>0.474000</td>\n",
       "      <td>0.474000</td>\n",
       "    </tr>\n",
       "    <tr>\n",
       "      <th>std</th>\n",
       "      <td>1.455025</td>\n",
       "      <td>0.839559</td>\n",
       "      <td>1.36073</td>\n",
       "      <td>1.407572</td>\n",
       "      <td>0.499824</td>\n",
       "      <td>0.499824</td>\n",
       "    </tr>\n",
       "    <tr>\n",
       "      <th>min</th>\n",
       "      <td>18.000000</td>\n",
       "      <td>0.000000</td>\n",
       "      <td>1.00000</td>\n",
       "      <td>0.000000</td>\n",
       "      <td>0.000000</td>\n",
       "      <td>0.000000</td>\n",
       "    </tr>\n",
       "    <tr>\n",
       "      <th>25%</th>\n",
       "      <td>20.000000</td>\n",
       "      <td>2.345000</td>\n",
       "      <td>2.00000</td>\n",
       "      <td>1.000000</td>\n",
       "      <td>0.000000</td>\n",
       "      <td>0.000000</td>\n",
       "    </tr>\n",
       "    <tr>\n",
       "      <th>50%</th>\n",
       "      <td>21.000000</td>\n",
       "      <td>2.990000</td>\n",
       "      <td>3.00000</td>\n",
       "      <td>2.000000</td>\n",
       "      <td>0.000000</td>\n",
       "      <td>0.000000</td>\n",
       "    </tr>\n",
       "    <tr>\n",
       "      <th>75%</th>\n",
       "      <td>22.000000</td>\n",
       "      <td>3.560000</td>\n",
       "      <td>4.00000</td>\n",
       "      <td>3.000000</td>\n",
       "      <td>1.000000</td>\n",
       "      <td>1.000000</td>\n",
       "    </tr>\n",
       "    <tr>\n",
       "      <th>max</th>\n",
       "      <td>25.000000</td>\n",
       "      <td>4.000000</td>\n",
       "      <td>5.00000</td>\n",
       "      <td>4.000000</td>\n",
       "      <td>1.000000</td>\n",
       "      <td>1.000000</td>\n",
       "    </tr>\n",
       "  </tbody>\n",
       "</table>\n",
       "</div>"
      ],
      "text/plain": [
       "              Age         GPA  Num Programming Languages  \\\n",
       "count  500.000000  500.000000                  500.00000   \n",
       "mean    20.944000    2.905780                    3.04600   \n",
       "std      1.455025    0.839559                    1.36073   \n",
       "min     18.000000    0.000000                    1.00000   \n",
       "25%     20.000000    2.345000                    2.00000   \n",
       "50%     21.000000    2.990000                    3.00000   \n",
       "75%     22.000000    3.560000                    4.00000   \n",
       "max     25.000000    4.000000                    5.00000   \n",
       "\n",
       "       Num Past Internships  Good Candidate    Gender_M  \n",
       "count            500.000000      500.000000  500.000000  \n",
       "mean               2.052000        0.474000    0.474000  \n",
       "std                1.407572        0.499824    0.499824  \n",
       "min                0.000000        0.000000    0.000000  \n",
       "25%                1.000000        0.000000    0.000000  \n",
       "50%                2.000000        0.000000    0.000000  \n",
       "75%                3.000000        1.000000    1.000000  \n",
       "max                4.000000        1.000000    1.000000  "
      ]
     },
     "execution_count": 22,
     "metadata": {},
     "output_type": "execute_result"
    }
   ],
   "source": [
    "test_df.describe()"
   ]
  },
  {
   "cell_type": "code",
   "execution_count": 23,
   "id": "d0a4fe09",
   "metadata": {},
   "outputs": [
    {
     "data": {
      "text/plain": [
       "Age                                     21.0\n",
       "Major                                   Math\n",
       "GPA                                      4.0\n",
       "Extra Curricular             Student Theatre\n",
       "Num Programming Languages                  2\n",
       "Num Past Internships                     2.0\n",
       "Good Candidate                           0.0\n",
       "Gender_M                                 0.0\n",
       "Name: 0, dtype: object"
      ]
     },
     "execution_count": 23,
     "metadata": {},
     "output_type": "execute_result"
    }
   ],
   "source": [
    "test_df.mode().iloc[0]"
   ]
  },
  {
   "cell_type": "code",
   "execution_count": 25,
   "id": "69247e0f",
   "metadata": {},
   "outputs": [],
   "source": [
    "# ⠀⢀⡤⢚⡭⣿⡟⠉⠉⠀⡀⠀⠀⠀⠀⠀⠀⠀⠀⠀⠀⠀⠀⠀⠀⠀⠀⠀⠀⠀⠀⠀⠀⠀⠀⠀⠀⠀⠀⠀⠀⠀⠈⠁⠉⠁⠀⠀⠀⠉⠉⠁⠀⠉⣿⠀⠀⠀⠀⠀\n",
    "# ⠀⠀⠀⢁⢶⡟⠀⠀⠀⠘⠀⡀⠀⠀⠀⠀⠀⠀⠀⠀⠀⠀⠀⠀⠀⠀⠀⠀⠀⠀⠀⠀⠀⠀⠀⠀⠀⠀⠀⠀⠀⠀⡀⠸⠀⠀⠀⠀⡆⠁⢀⠀⡇⠠⣼⡄⠀⠀⠀⠀\n",
    "# ⠀⠀⢠⠏⣾⠁⡄⠀⠀⡃⠀⢡⠀⠀⠀⠃⠀⠀⠀⠀⠀⠀⠀⡁⠀⠀⢠⠂⠀⠀⠀⠀⠀⠀⠀⠀⠀⠀⠀⠀⠀⢠⣇⠇⠀⢀⡄⢸⢀⡆⢸⡰⡆⢸⠿⣧⠀⠀⠀⠀\n",
    "# ⠀⠀⡜⣰⡏⠀⠧⠂⠰⠇⢰⣸⡄⠀⣼⡀⠀⠄⢠⠀⡀⠀⢠⡇⠀⢀⢾⠀⠀⢀⠇⠀⠀⠀⠀⠀⠀⡀⣸⠀⢀⢸⡟⠀⠀⡼⠀⡇⣼⡁⠆⡇⣧⢸⠀⠈⠀⠀⠀⠀\n",
    "# ⠀⢠⣷⠇⠀⢸⢸⠀⢰⠄⣸⡟⡇⢀⠽⡇⢀⡇⠘⠰⠁⠀⡞⡇⠀⡜⢸⡀⠀⣸⡄⠀⢀⠀⠀⢀⠴⢃⡇⢀⣇⠞⣓⠲⣴⠁⢸⢰⡇⢧⠀⣸⢿⣼⠀⠀⠀⠀⠀⠀\n",
    "# ⠀⣼⡏⢀⡆⠘⢸⠀⢸⠀⣿⣤⡇⣸⠀⡇⢸⡆⠂⢸⠀⢰⠇⡇⢰⠗⢻⡃⢸⣿⠀⠀⢸⠀⢀⡏⠀⣋⠅⣼⠋⣼⣿⡇⣇⠀⣿⠏⣧⢸⢠⣿⠀⠻⠀⠀⠀⠀⠀⠀\n",
    "# ⢠⣿⢀⡞⠀⡀⢸⢀⠸⣾⣿⣹⣇⡇⣄⡇⣼⡇⠀⣼⠀⡾⠉⢱⡞⠀⢀⡇⡞⢹⠀⠀⣾⠀⣼⡇⢠⣿⢠⠇⠘⣿⡇⢣⣸⡄⡞⠀⣿⠈⣿⡏⠀⠀⠀⠀⠀⠀⠀⠀\n",
    "# ⢸⣿⢻⠇⣠⡇⣹⢸⡆⣿⠿⣿⣿⣄⢸⡇⡏⢿⡮⢹⢰⡇⣠⣼⡷⣶⣿⣿⣁⢘⠠⠇⣿⢰⣱⡁⣸⣿⡼⠀⣾⠿⠏⢸⢋⣿⣷⣤⠙⣇⣿⣇⠀⠀⠀⠀⠀⠀⠀⠀\n",
    "# ⠾⠁⠘⡰⢋⣧⣇⣸⣷⡞⠓⠺⢧⣘⣆⢻⠇⢸⡇⣸⣞⣹⡿⠛⠻⣏⣀⡭⠙⢛⡶⠦⣟⢫⣿⡿⠉⣿⠇⠀⡿⠁⠀⢧⣞⣿⡇⢻⣧⡘⣿⣿⡆⠀⠀⠀⠀⠀⠀⠀\n",
    "# ⠀⢠⡿⠁⢸⠇⣼⠋⡿⣧⡀⠀⠀⠙⣿⡿⠀⢹⣶⠟⠋⠛⠻⠶⣤⣀⠀⠠⠔⠋⣣⣾⡏⡞⢸⠃⠀⡿⠀⠀⠁⠀⡰⠋⠘⠾⡇⠀⠙⠳⣿⣿⣿⡀⠀⠀⠀⠀⠀⠀\n",
    "# ⠀⡾⠁⢀⡏⢰⠃⠀⡇⢿⠿⣿⣿⣿⣿⠷⠶⠾⢿⣦⣀⣀⣀⣀⣈⣿⣇⢀⣴⠟⠉⢸⡿⠁⠊⠀⠀⠃⣀⣄⣠⠞⠁⠀⠀⠀⠀⠀⠀⣰⣿⣿⣿⣷⣦⣀⠀⠀⠀⠀\n",
    "# ⠈⠁⠀⠼⠁⠁⠀⠀⠃⢸⠀⢹⡉⠛⠋⠀⠀⠀⠀⠻⢿⣿⣿⣿⣿⣿⣿⣛⡟⠀⠀⠛⠃⠀⠀⠀⠀⢠⡿⠏⣠⡆⠀⠀⠀⠀⠀⣠⣾⣿⣿⣿⣿⣿⣿⣿⣿⣦⡀⠀\n",
    "# ⠀⠀⠀⠀⠀⠀⠀⠀⠀⠈⠀⠀⢷⣤⡀⠀⠀⠀⠀⠀⠀⠈⠙⠛⠛⠋⠉⠁⠀⠀⠀⠀⠀⠀⠀⠀⠀⢾⠁⣰⣿⡇⠀⠀⠀⢀⣼⣿⣿⣿⣿⣿⣿⣿⣿⣿⣿⣿⣿⣄\n",
    "# ⠀⠀⠀⠀⠀⠀⠀⠀⠀⠀⠀⠀⠀⠹⣿⢦⡀⠀⠀⠀⠀⠀⠀⠀⠀⠀⠀⠀⠀⠀⠀⠀⠀⠀⠀⠀⠀⠀⠀⢟⣹⠀⠀⠀⣠⣿⣿⣿⣿⣿⣿⣿⣿⣿⣿⣿⣿⣿⣿⣿\n",
    "# ⠀⠀⠀⠀⠀⠀⠀⠀⠀⠀⠀⠀⠀⠀⠘⢾⣯⣄⣀⡀⠀⠀⠀⠀⣀⡤⠖⠋⠀⠀⠀⠀⠀⢀⣠⡤⠀⠀⠀⢺⣿⡀⢀⣼⣿⣿⣿⣿⣿⣿⣿⣿⣿⣿⣿⣿⣿⣿⣿⣿\n",
    "# ⠀⠀⠀⠀⠀⠀⠀⠀⠀⠀⠀⠀⠀⠀⠀⢸⠀⠀⢀⣩⡗⠒⠒⠉⠀⠀⠀⠀⠀⠀⠀⣠⣴⣿⠏⠀⠀⠀⠀⣾⠏⣰⣿⣿⣿⣿⣿⣿⣿⣿⣿⣿⣿⣿⣿⣿⣿⣿⣿⣿\n",
    "# ⠀⠀⠀⠀⠀⠀⠀⠀⠀⠀⠀⠀⠀⠀⠀⠈⠧⠴⢿⡋⠁⠀⠀⠀⠀⠀⠀⠀⠀⣠⣞⢻⠟⠁⠀⠀⠀⠀⠀⣡⣾⣿⣿⣿⣿⣿⣿⣿⣿⣿⣿⣿⣿⣿⣿⣿⣿⣿⣿⣿\n",
    "# ⠀⠀⠀⠀⠀⠀⠀⠀⠀⠀⠀⠀⠀⠀⠀⠀⠀⠀⠀⢳⣄⡀⠀⠀⠀⠀⣀⣴⣮⣹⡿⠃⠀⠀⠀⠀⣀⣴⣿⣿⣿⣿⣿⣿⣿⣿⣿⣿⣿⣿⣿⣿⣿⣿⣿⣿⣿⣿⣿⣿"
   ]
  }
 ],
 "metadata": {
  "kernelspec": {
   "display_name": "Python 3 (ipykernel)",
   "language": "python",
   "name": "python3"
  },
  "language_info": {
   "codemirror_mode": {
    "name": "ipython",
    "version": 3
   },
   "file_extension": ".py",
   "mimetype": "text/x-python",
   "name": "python",
   "nbconvert_exporter": "python",
   "pygments_lexer": "ipython3",
   "version": "3.8.9"
  }
 },
 "nbformat": 4,
 "nbformat_minor": 5
}
